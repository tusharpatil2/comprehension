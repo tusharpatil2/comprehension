{
 "cells": [
  {
   "cell_type": "code",
   "execution_count": 1,
   "id": "739e7f8a-20bf-4514-b24b-4ae97aa8b406",
   "metadata": {},
   "outputs": [],
   "source": [
    "l = [1,2,3,4,5]\n",
    "l1 = []\n",
    "for i in l :\n",
    "    l1.append(i**12)"
   ]
  },
  {
   "cell_type": "code",
   "execution_count": 3,
   "id": "8ded3553-765d-4222-b058-eb0f9b29784f",
   "metadata": {},
   "outputs": [
    {
     "data": {
      "text/plain": [
       "[1, 4096, 531441, 16777216, 244140625]"
      ]
     },
     "execution_count": 3,
     "metadata": {},
     "output_type": "execute_result"
    }
   ],
   "source": [
    "l1"
   ]
  },
  {
   "cell_type": "code",
   "execution_count": 4,
   "id": "007bfb4e-f762-4a61-a4a4-ae115b8d34f4",
   "metadata": {},
   "outputs": [
    {
     "data": {
      "text/plain": [
       "[1, 2, 3, 4, 5]"
      ]
     },
     "execution_count": 4,
     "metadata": {},
     "output_type": "execute_result"
    }
   ],
   "source": [
    "l"
   ]
  },
  {
   "cell_type": "code",
   "execution_count": 6,
   "id": "9927eaf4-1624-4747-8132-188f1cc1ce5c",
   "metadata": {},
   "outputs": [
    {
     "data": {
      "text/plain": [
       "[1, 4, 9, 16, 25]"
      ]
     },
     "execution_count": 6,
     "metadata": {},
     "output_type": "execute_result"
    }
   ],
   "source": [
    "[i**2  for i in l]"
   ]
  },
  {
   "cell_type": "code",
   "execution_count": 9,
   "id": "a7d25cb4-548e-45e8-9800-1d8bfbcba5fe",
   "metadata": {},
   "outputs": [
    {
     "data": {
      "text/plain": [
       "[2, 4]"
      ]
     },
     "execution_count": 9,
     "metadata": {},
     "output_type": "execute_result"
    }
   ],
   "source": [
    "[i for i in l if i % 2 == 0]"
   ]
  },
  {
   "cell_type": "code",
   "execution_count": 10,
   "id": "8b7ba7a1-65f5-46d3-970b-8420223991f7",
   "metadata": {},
   "outputs": [],
   "source": [
    "l1 = [\"sudh\",\"pwskill\",\"kumar\",\"data science master\"]"
   ]
  },
  {
   "cell_type": "code",
   "execution_count": 13,
   "id": "cff12249-62a4-4216-8b42-df43fd3662ed",
   "metadata": {},
   "outputs": [
    {
     "data": {
      "text/plain": [
       "['SUDH', 'PWSKILL', 'KUMAR', 'DATA SCIENCE MASTER']"
      ]
     },
     "execution_count": 13,
     "metadata": {},
     "output_type": "execute_result"
    }
   ],
   "source": [
    "[i.upper() for i in  l1]"
   ]
  },
  {
   "cell_type": "code",
   "execution_count": 14,
   "id": "53b4c576-0163-4af8-88a5-c7cad5676ad8",
   "metadata": {},
   "outputs": [
    {
     "data": {
      "text/plain": [
       "[1, 2, 3, 4, 5]"
      ]
     },
     "execution_count": 14,
     "metadata": {},
     "output_type": "execute_result"
    }
   ],
   "source": [
    "l"
   ]
  },
  {
   "cell_type": "code",
   "execution_count": 15,
   "id": "3e2e4239-83e4-41b9-a843-7ecf8a4b3e64",
   "metadata": {},
   "outputs": [
    {
     "data": {
      "text/plain": [
       "[1, 4, 9, 16, 25]"
      ]
     },
     "execution_count": 15,
     "metadata": {},
     "output_type": "execute_result"
    }
   ],
   "source": [
    "list(i**2 for i in l)"
   ]
  },
  {
   "cell_type": "code",
   "execution_count": 16,
   "id": "d2d455ce-5cce-4274-8bb4-b34d9d169dc5",
   "metadata": {},
   "outputs": [],
   "source": [
    "d = {\"keys1\" :1, \"key2\" :2, \"key3\" :3,\"key4\" :4}"
   ]
  },
  {
   "cell_type": "code",
   "execution_count": 21,
   "id": "74515b17-817a-471a-9aec-6836c5ecdeec",
   "metadata": {},
   "outputs": [
    {
     "data": {
      "text/plain": [
       "{'keys1': 1, 'key2': 4, 'key3': 9, 'key4': 16}"
      ]
     },
     "execution_count": 21,
     "metadata": {},
     "output_type": "execute_result"
    }
   ],
   "source": [
    "{k:v**2 for k , v in d.items()}"
   ]
  },
  {
   "cell_type": "code",
   "execution_count": 20,
   "id": "0f5fb742-b074-4b2a-b0a5-621e3a8dbef3",
   "metadata": {},
   "outputs": [
    {
     "data": {
      "text/plain": [
       "dict_items([('keys1', 1), ('key2', 2), ('key3', 3), ('key4', 4)])"
      ]
     },
     "execution_count": 20,
     "metadata": {},
     "output_type": "execute_result"
    }
   ],
   "source": [
    "d.items()"
   ]
  },
  {
   "cell_type": "code",
   "execution_count": 22,
   "id": "ec2148e9-2bef-40a8-9a29-11cc226fb221",
   "metadata": {},
   "outputs": [
    {
     "data": {
      "text/plain": [
       "{'keys1': 1, 'key2': 2, 'key3': 3, 'key4': 4}"
      ]
     },
     "execution_count": 22,
     "metadata": {},
     "output_type": "execute_result"
    }
   ],
   "source": [
    "d"
   ]
  },
  {
   "cell_type": "code",
   "execution_count": 23,
   "id": "f52159c0-bc05-4b4b-815f-c157c1e1e129",
   "metadata": {},
   "outputs": [
    {
     "ename": "SyntaxError",
     "evalue": "invalid syntax (1609226778.py, line 1)",
     "output_type": "error",
     "traceback": [
      "\u001b[0;36m  Cell \u001b[0;32mIn[23], line 1\u001b[0;36m\u001b[0m\n\u001b[0;31m    {for k , v in d.items() if v > 1}\u001b[0m\n\u001b[0m     ^\u001b[0m\n\u001b[0;31mSyntaxError\u001b[0m\u001b[0;31m:\u001b[0m invalid syntax\n"
     ]
    }
   ],
   "source": [
    "{ k , v in d.items() if v > 1}"
   ]
  },
  {
   "cell_type": "code",
   "execution_count": null,
   "id": "c013b473-e821-4305-bc54-ab7b95e51cc5",
   "metadata": {},
   "outputs": [],
   "source": []
  }
 ],
 "metadata": {
  "kernelspec": {
   "display_name": "Python 3 (ipykernel)",
   "language": "python",
   "name": "python3"
  },
  "language_info": {
   "codemirror_mode": {
    "name": "ipython",
    "version": 3
   },
   "file_extension": ".py",
   "mimetype": "text/x-python",
   "name": "python",
   "nbconvert_exporter": "python",
   "pygments_lexer": "ipython3",
   "version": "3.10.8"
  }
 },
 "nbformat": 4,
 "nbformat_minor": 5
}
